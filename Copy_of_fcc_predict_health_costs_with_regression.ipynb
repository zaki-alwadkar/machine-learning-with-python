{
  "cells": [
    {
      "cell_type": "code",
      "execution_count": null,
      "metadata": {
        "id": "1rRo8oNqZ-Rj"
      },
      "outputs": [],
      "source": [
        "import matplotlib.pyplot as plt\n",
        "import numpy as np\n",
        "import pandas as pd\n",
        "import tensorflow as tf\n",
        "import tensorflow_docs as tfdocs\n",
        "import tensorflow_docs.plots\n",
        "import tensorflow_docs.modeling\n",
        "import os\n",
        "\n",
        "from urllib.request import Request, urlopen, urlretrieve\n",
        "from tensorflow import keras\n",
        "from tensorflow.keras import layers\n",
        "from sklearn.utils import shuffle"
      ]
    },
    {
      "cell_type": "code",
      "execution_count": null,
      "metadata": {
        "id": "CiX2FI4gZtTt"
      },
      "outputs": [],
      "source": [
        "# Import data\n",
        "if not os.path.exists(\"insurance.csv\"):\n",
        "    url = \"https://cdn.freecodecamp.org/project-data/health-costs/insurance.csv\"\n",
        "    req = Request(\n",
        "        url=url,\n",
        "        headers={\"User-Agent\": \"Mozilla/5.0\"}\n",
        "    )\n",
        "\n",
        "    webpage = urlopen(req)\n",
        "\n",
        "    with open(\"insurance.csv\",\"wb\") as output:\n",
        "        output.write(webpage.read())\n",
        "\n",
        "dataset = pd.read_csv('insurance.csv')\n",
        "dataset.tail()\n",
        "\n",
        "# Convert categorical data to numbers\n",
        "dataset[\"sex\"].replace(\n",
        "    [\"female\", \"male\"],\n",
        "    [0, 1],\n",
        "    inplace=True\n",
        ")\n",
        "\n",
        "dataset[\"smoker\"].replace(\n",
        "    [\"no\", \"yes\"],\n",
        "    [0, 1],\n",
        "    inplace=True\n",
        ")\n",
        "\n",
        "dataset[\"region\"].replace(\n",
        "    ['southwest', 'southeast', 'northwest', 'northeast'],\n",
        "    [0, 1, 2, 3],\n",
        "    inplace=True\n",
        ")\n",
        "\n",
        "dataset = shuffle(dataset).reset_index(drop=True)\n",
        "\n",
        "# Separating the train and test datasets\n",
        "train_dataset  = dataset[0:int(0.8*dataset.shape[0])]\n",
        "test_dataset = dataset[int(0.8*dataset.shape[0]):dataset.shape[0] - 1]\n",
        "\n",
        "train_labels = train_dataset.pop(\"expenses\")\n",
        "test_labels = test_dataset.pop(\"expenses\")\n",
        "\n",
        "# Creating the model\n",
        "normalizer = layers.experimental.preprocessing.Normalization()\n",
        "normalizer.adapt(np.array(train_dataset))\n",
        "\n",
        "model = keras.Sequential([\n",
        "    normalizer,\n",
        "    layers.Dense(32, activation=\"relu\"),\n",
        "    layers.Dense(16, activation=\"relu\"),\n",
        "    layers.Dense(1)\n",
        "])\n",
        "\n",
        "model.compile(\n",
        "    optimizer=tf.optimizers.Adam(learning_rate=0.1),\n",
        "    loss='mae',\n",
        "    metrics=['mae', 'mse']\n",
        ")\n",
        "model.build()\n",
        "model.summary()\n",
        "\n",
        "# Training the model\n",
        "history = model.fit(\n",
        "    train_dataset,\n",
        "    train_labels,\n",
        "    epochs=100\n",
        ")\n"
      ]
    },
    {
      "cell_type": "code",
      "execution_count": null,
      "metadata": {
        "id": "LcopvQh3X-kX"
      },
      "outputs": [],
      "source": []
    },
    {
      "cell_type": "code",
      "execution_count": null,
      "metadata": {
        "id": "Xe7RXH3N3CWU"
      },
      "outputs": [],
      "source": [
        "# RUN THIS CELL TO TEST YOUR MODEL. DO NOT MODIFY CONTENTS.\n",
        "# Test model by checking how well the model generalizes using the test set.\n",
        "loss, mae, mse = model.evaluate(test_dataset, test_labels, verbose=2)\n",
        "\n",
        "print(\"Testing set Mean Abs Error: {:5.2f} expenses\".format(mae))\n",
        "\n",
        "if mae < 3500:\n",
        "  print(\"You passed the challenge. Great job!\")\n",
        "else:\n",
        "  print(\"The Mean Abs Error must be less than 3500. Keep trying.\")\n",
        "\n",
        "# Plot predictions.\n",
        "test_predictions = model.predict(test_dataset).flatten()\n",
        "\n",
        "a = plt.axes(aspect='equal')\n",
        "plt.scatter(test_labels, test_predictions)\n",
        "plt.xlabel('True values (expenses)')\n",
        "plt.ylabel('Predictions (expenses)')\n",
        "lims = [0, 50000]\n",
        "plt.xlim(lims)\n",
        "plt.ylim(lims)\n",
        "_ = plt.plot(lims,lims)"
      ]
    }
  ],
  "metadata": {
    "colab": {
      "private_outputs": true,
      "provenance": [],
      "toc_visible": true
    },
    "kernelspec": {
      "display_name": "Python 3",
      "name": "python3"
    }
  },
  "nbformat": 4,
  "nbformat_minor": 0
}